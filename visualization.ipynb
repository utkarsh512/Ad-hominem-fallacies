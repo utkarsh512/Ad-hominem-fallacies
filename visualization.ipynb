{
  "nbformat": 4,
  "nbformat_minor": 0,
  "metadata": {
    "colab": {
      "name": "visualization.ipynb",
      "provenance": [],
      "authorship_tag": "ABX9TyOOhICvnSQiwkj5fXaSdIo+",
      "include_colab_link": true
    },
    "kernelspec": {
      "name": "python3",
      "display_name": "Python 3"
    }
  },
  "cells": [
    {
      "cell_type": "markdown",
      "metadata": {
        "id": "view-in-github",
        "colab_type": "text"
      },
      "source": [
        "<a href=\"https://colab.research.google.com/github/utkarsh512/Ad-hominem-fallacies/blob/master/visualization.ipynb\" target=\"_parent\"><img src=\"https://colab.research.google.com/assets/colab-badge.svg\" alt=\"Open In Colab\"/></a>"
      ]
    },
    {
      "cell_type": "code",
      "metadata": {
        "colab": {
          "base_uri": "https://localhost:8080/"
        },
        "id": "nKDA5VKQGAqv",
        "outputId": "a5e843c9-e65e-4b7b-e5a3-a790ddfdb0da"
      },
      "source": [
        "from google.colab import drive\r\n",
        "drive.mount('/content/gdrive')"
      ],
      "execution_count": 1,
      "outputs": [
        {
          "output_type": "stream",
          "text": [
            "Mounted at /content/gdrive\n"
          ],
          "name": "stdout"
        }
      ]
    },
    {
      "cell_type": "code",
      "metadata": {
        "id": "VWdYaJcAGPhq"
      },
      "source": [
        "DIR = '/content/gdrive/My Drive/DL/cur/Ad-hominem-fallacies/experiments/visualization-context3/fold5.json'"
      ],
      "execution_count": 2,
      "outputs": []
    },
    {
      "cell_type": "code",
      "metadata": {
        "id": "P9F-PH6kHLtZ"
      },
      "source": [
        "import pandas as pd\r\n",
        "import numpy as np"
      ],
      "execution_count": 3,
      "outputs": []
    },
    {
      "cell_type": "code",
      "metadata": {
        "id": "_gNAlixBH8FF"
      },
      "source": [
        "latex_special_token = [\"!@#$%^&*()\"]\r\n",
        "\r\n",
        "def generate(text_list, attention_list, latex_file, color='red', rescale_value = False):\r\n",
        "\tassert(len(text_list) == len(attention_list))\r\n",
        "\tif rescale_value:\r\n",
        "\t\tattention_list = rescale(attention_list)\r\n",
        "\tword_num = len(text_list)\r\n",
        "\ttext_list = clean_word(text_list)\r\n",
        "\twith open(latex_file,'w') as f:\r\n",
        "\t\tf.write(r'''\\documentclass[varwidth]{standalone}\r\n",
        "\\special{papersize=210mm,297mm}\r\n",
        "\\usepackage{color}\r\n",
        "\\usepackage{tcolorbox}\r\n",
        "\\usepackage{CJK}\r\n",
        "\\usepackage{adjustbox}\r\n",
        "\\tcbset{width=0.9\\textwidth,boxrule=0pt,colback=red,arc=0pt,auto outer arc,left=0pt,right=0pt,boxsep=5pt}\r\n",
        "\\begin{document}\r\n",
        "\\begin{CJK*}{UTF8}{gbsn}'''+'\\n')\r\n",
        "\t\tstring = r'''{\\setlength{\\fboxsep}{0pt}\\colorbox{white!0}{\\parbox{0.9\\textwidth}{'''+\"\\n\"\r\n",
        "\t\tfor idx in range(word_num):\r\n",
        "\t\t\tstring += \"\\\\colorbox{%s!%s}{\"%(color, attention_list[idx])+\"\\\\strut \" + text_list[idx]+\"} \"\r\n",
        "\t\tstring += \"\\n}}}\"\r\n",
        "\t\tf.write(string+'\\n')\r\n",
        "\t\tf.write(r'''\\end{CJK*}\r\n",
        "\\end{document}''')\r\n",
        "\r\n",
        "def rescale(input_list):\r\n",
        "\tthe_array = np.asarray(input_list)\r\n",
        "\tthe_max = np.max(the_array)\r\n",
        "\tthe_min = np.min(the_array)\r\n",
        "\trescale = (the_array - the_min)/(the_max-the_min)*100\r\n",
        "\treturn rescale.tolist()\r\n",
        "\r\n",
        "\r\n",
        "def clean_word(word_list):\r\n",
        "\tnew_word_list = []\r\n",
        "\tfor word in word_list:\r\n",
        "\t\tfor latex_sensitive in [\"\\\\\", \"%\", \"&\", \"^\", \"#\", \"_\",  \"{\", \"}\"]:\r\n",
        "\t\t\tif latex_sensitive in word:\r\n",
        "\t\t\t\tword = word.replace(latex_sensitive, '\\\\'+latex_sensitive)\r\n",
        "\t\tnew_word_list.append(word)\r\n",
        "\treturn new_word_list"
      ],
      "execution_count": 6,
      "outputs": []
    },
    {
      "cell_type": "code",
      "metadata": {
        "id": "6t5i_7YYHQkA"
      },
      "source": [
        "f = pd.read_json(DIR)"
      ],
      "execution_count": 4,
      "outputs": []
    },
    {
      "cell_type": "code",
      "metadata": {
        "colab": {
          "base_uri": "https://localhost:8080/",
          "height": 402
        },
        "id": "cMIMP84BHcTo",
        "outputId": "df75eb7c-bf1b-4215-e47d-a3f8c0aa874f"
      },
      "source": [
        "f"
      ],
      "execution_count": 5,
      "outputs": [
        {
          "output_type": "execute_result",
          "data": {
            "text/html": [
              "<div>\n",
              "<style scoped>\n",
              "    .dataframe tbody tr th:only-of-type {\n",
              "        vertical-align: middle;\n",
              "    }\n",
              "\n",
              "    .dataframe tbody tr th {\n",
              "        vertical-align: top;\n",
              "    }\n",
              "\n",
              "    .dataframe thead th {\n",
              "        text-align: right;\n",
              "    }\n",
              "</style>\n",
              "<table border=\"1\" class=\"dataframe\">\n",
              "  <thead>\n",
              "    <tr style=\"text-align: right;\">\n",
              "      <th></th>\n",
              "      <th>weights</th>\n",
              "      <th>words</th>\n",
              "      <th>gold</th>\n",
              "      <th>id</th>\n",
              "      <th>predicted</th>\n",
              "    </tr>\n",
              "  </thead>\n",
              "  <tbody>\n",
              "    <tr>\n",
              "      <th>0</th>\n",
              "      <td>[0.06192860007286, 0.048388078808784006, 0.052...</td>\n",
              "      <td>[___t1_dessmnq___start__, Generally, ?, Yes., ...</td>\n",
              "      <td>ah</td>\n",
              "      <td>1259_ah_t1_dezgggz.json</td>\n",
              "      <td>ah</td>\n",
              "    </tr>\n",
              "    <tr>\n",
              "      <th>1</th>\n",
              "      <td>[0.07836543023586201, 0.059939257800579, 0.055...</td>\n",
              "      <td>[___t1_cdd4rx7___start__, __quoted_text__, Thi...</td>\n",
              "      <td>delta</td>\n",
              "      <td>772_delta_t1_cdd57zm.json</td>\n",
              "      <td>ah</td>\n",
              "    </tr>\n",
              "    <tr>\n",
              "      <th>2</th>\n",
              "      <td>[0.20601241290569303, 0.18892423808574602, 0.0...</td>\n",
              "      <td>[___t1_cqqhlw3___start__, Yes., Imagine, a, co...</td>\n",
              "      <td>ah</td>\n",
              "      <td>96_ah_t1_cqs0sw9.json</td>\n",
              "      <td>delta</td>\n",
              "    </tr>\n",
              "    <tr>\n",
              "      <th>3</th>\n",
              "      <td>[0.031921695917844, 0.03397175297141, 0.075007...</td>\n",
              "      <td>[___t1_cr0uwnr___start__, __quoted_text__, Tha...</td>\n",
              "      <td>ah</td>\n",
              "      <td>273_ah_t1_cr22iqg.json</td>\n",
              "      <td>ah</td>\n",
              "    </tr>\n",
              "    <tr>\n",
              "      <th>4</th>\n",
              "      <td>[0.058274660259485, 0.040656935423612005, 0.02...</td>\n",
              "      <td>[___t1_dkdy6lq___start__, So, what, ,, in, you...</td>\n",
              "      <td>delta</td>\n",
              "      <td>38_delta_t1_dkdzm1n.json</td>\n",
              "      <td>delta</td>\n",
              "    </tr>\n",
              "    <tr>\n",
              "      <th>...</th>\n",
              "      <td>...</td>\n",
              "      <td>...</td>\n",
              "      <td>...</td>\n",
              "      <td>...</td>\n",
              "      <td>...</td>\n",
              "    </tr>\n",
              "    <tr>\n",
              "      <th>254</th>\n",
              "      <td>[0.061132337898015005, 0.059874322265386005, 0...</td>\n",
              "      <td>[___t1_cgnb14b___start__, __quoted_text__, I, ...</td>\n",
              "      <td>delta</td>\n",
              "      <td>334_delta_t1_cgneaye.json</td>\n",
              "      <td>delta</td>\n",
              "    </tr>\n",
              "    <tr>\n",
              "      <th>255</th>\n",
              "      <td>[0.013572472147643, 0.05585204437375001, 0.025...</td>\n",
              "      <td>[___t1_cj6r7su___start__, I, never, really, vi...</td>\n",
              "      <td>delta</td>\n",
              "      <td>339_delta_t1_cj6sflw.json</td>\n",
              "      <td>ah</td>\n",
              "    </tr>\n",
              "    <tr>\n",
              "      <th>256</th>\n",
              "      <td>[0.025722656399011, 0.015306190587580001, 0.01...</td>\n",
              "      <td>[___t1_ddxpg47___start__, Instead, of, buildin...</td>\n",
              "      <td>ah</td>\n",
              "      <td>759_ah_t1_ddxy48x.json</td>\n",
              "      <td>ah</td>\n",
              "    </tr>\n",
              "    <tr>\n",
              "      <th>257</th>\n",
              "      <td>[0.072546139359474, 0.052375469356775006, 0.03...</td>\n",
              "      <td>[___t1_dm2elyk___start__, Surely, there, are, ...</td>\n",
              "      <td>delta</td>\n",
              "      <td>1168_delta_t1_dm2gisq.json</td>\n",
              "      <td>delta</td>\n",
              "    </tr>\n",
              "    <tr>\n",
              "      <th>258</th>\n",
              "      <td>[0.366637498140335, 0.34399017691612205, 0.229...</td>\n",
              "      <td>[___t1_cmn12mq___start__, __quoted_text__, Mor...</td>\n",
              "      <td>ah</td>\n",
              "      <td>608_ah_t1_cmn2znu.json</td>\n",
              "      <td>delta</td>\n",
              "    </tr>\n",
              "  </tbody>\n",
              "</table>\n",
              "<p>259 rows × 5 columns</p>\n",
              "</div>"
            ],
            "text/plain": [
              "                                               weights  ... predicted\n",
              "0    [0.06192860007286, 0.048388078808784006, 0.052...  ...        ah\n",
              "1    [0.07836543023586201, 0.059939257800579, 0.055...  ...        ah\n",
              "2    [0.20601241290569303, 0.18892423808574602, 0.0...  ...     delta\n",
              "3    [0.031921695917844, 0.03397175297141, 0.075007...  ...        ah\n",
              "4    [0.058274660259485, 0.040656935423612005, 0.02...  ...     delta\n",
              "..                                                 ...  ...       ...\n",
              "254  [0.061132337898015005, 0.059874322265386005, 0...  ...     delta\n",
              "255  [0.013572472147643, 0.05585204437375001, 0.025...  ...        ah\n",
              "256  [0.025722656399011, 0.015306190587580001, 0.01...  ...        ah\n",
              "257  [0.072546139359474, 0.052375469356775006, 0.03...  ...     delta\n",
              "258  [0.366637498140335, 0.34399017691612205, 0.229...  ...     delta\n",
              "\n",
              "[259 rows x 5 columns]"
            ]
          },
          "metadata": {
            "tags": []
          },
          "execution_count": 5
        }
      ]
    },
    {
      "cell_type": "code",
      "metadata": {
        "id": "9exf8q_2HefJ"
      },
      "source": [
        "d = f.to_dict(orient='records')"
      ],
      "execution_count": 16,
      "outputs": []
    },
    {
      "cell_type": "code",
      "metadata": {
        "colab": {
          "base_uri": "https://localhost:8080/"
        },
        "id": "26uRg80YLMIh",
        "outputId": "68dad255-b622-4cd7-bc9a-8801d928e06c"
      },
      "source": [
        "length = len(d)\r\n",
        "rnd = np.random.randint(length)\r\n",
        "generate(d[rnd]['words'], d[rnd]['weights'], 'source.tex', 'blue', True)\r\n",
        "print('True label: {}, Predicted label: {}'.format(d[rnd]['gold'], d[rnd]['predicted']))"
      ],
      "execution_count": 22,
      "outputs": [
        {
          "output_type": "stream",
          "text": [
            "True label: ah, Predicted label: ah\n"
          ],
          "name": "stdout"
        }
      ]
    },
    {
      "cell_type": "code",
      "metadata": {
        "id": "CzwOPlNHMWhr"
      },
      "source": [
        ""
      ],
      "execution_count": null,
      "outputs": []
    }
  ]
}