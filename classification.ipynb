{
 "cells": [
  {
   "cell_type": "markdown",
   "metadata": {},
   "source": [
    "# Running the classification experiment in Google Colab"
   ]
  },
  {
   "cell_type": "code",
   "execution_count": null,
   "metadata": {},
   "outputs": [],
   "source": [
    "# loading Google Drive\n",
    "from google.colab import drive\n",
    "drive.mount('/content/gdrive')"
   ]
  },
  {
   "cell_type": "markdown",
   "metadata": {},
   "source": [
    "### 1 Cloning the repository"
   ]
  },
  {
   "cell_type": "code",
   "execution_count": null,
   "metadata": {},
   "outputs": [],
   "source": [
    "%%shell\n",
    "cd /content/gdrive/'My Drive'/\n",
    "git clone https://github.com/utkarsh512/Ad-hominem-fallacies.git"
   ]
  },
  {
   "cell_type": "markdown",
   "metadata": {},
   "source": [
    "### 2 Creating virtual environment and installing required modules"
   ]
  },
  {
   "cell_type": "code",
   "execution_count": null,
   "metadata": {},
   "outputs": [],
   "source": [
    "%%shell\n",
    "cd /content/gdrive/'My Drive'/Ad-hominem-fallacies/experiments\n",
    "pip install virtualenv\n",
    "virtualenv env --python=python3\n",
    "source env/bin/activate\n",
    "pip install lda==1.0.5 scipy==1.1.0 nltk==3.2.5"
   ]
  },
  {
   "cell_type": "markdown",
   "metadata": {},
   "source": [
    "### 3 Downloading encoding for 100k popular English words"
   ]
  },
  {
   "cell_type": "code",
   "execution_count": null,
   "metadata": {},
   "outputs": [],
   "source": [
    "%%shell\n",
    "cd /content/gdrive/'My Drive'/Ad-hominem-fallacies/experiments\n",
    "wget https://public.ukp.informatik.tu-darmstadt.de/ih/RedditChangeMyView2017/en-top100k.embeddings.pkl.gz"
   ]
  },
  {
   "cell_type": "markdown",
   "metadata": {},
   "source": [
    "### 4 Decompressing data set"
   ]
  },
  {
   "cell_type": "code",
   "execution_count": null,
   "metadata": {},
   "outputs": [],
   "source": [
    "%%shell\n",
    "cd /content/gdrive/'My Drive'/Ad-hominem-fallacies/experiments\n",
    "tar -xvf sampled-threads-ah-delta-context3.tar.bz2 -C data/"
   ]
  },
  {
   "cell_type": "markdown",
   "metadata": {},
   "source": [
    "### 5 Installing compatible version of _tensorflow_\n",
    "You can install gpu version as well"
   ]
  },
  {
   "cell_type": "code",
   "execution_count": null,
   "metadata": {},
   "outputs": [],
   "source": [
    "%%shell\n",
    "pip install tensorflow==1.4.0"
   ]
  },
  {
   "cell_type": "markdown",
   "metadata": {},
   "source": [
    "### 6 Running the experiments\n",
    "This may take approx 1 hr for one fold. There are total of 10 folds. You can either use the gpu version to decrease that time, or skip this step, as the results are already precomputed"
   ]
  },
  {
   "cell_type": "code",
   "execution_count": null,
   "metadata": {},
   "outputs": [],
   "source": [
    "%%shell\n",
    "cd /content/gdrive/'My Drive'/Ad-hominem-fallacies/experiments\n",
    "#pip install lda\n",
    "python classification_experiments.py"
   ]
  },
  {
   "cell_type": "markdown",
   "metadata": {},
   "source": [
    "### 7 Visualizing the heat map\n",
    "This blocks creates 10 TEX files in the directory `Ad-hominem-fallacies/experiments` as `temp`$n$`.tex`. Convert these into pdfs to understand the dynamics of ad-hominem arguments"
   ]
  },
  {
   "cell_type": "code",
   "execution_count": null,
   "metadata": {},
   "outputs": [],
   "source": [
    "%%shell\n",
    "cd /content/gdrive/'My Drive'/Ad-hominem-fallacies/experiments\n",
    "python Visualization.py"
   ]
  }
 ],
 "metadata": {
  "kernelspec": {
   "display_name": "Python 3",
   "language": "python",
   "name": "python3"
  },
  "language_info": {
   "codemirror_mode": {
    "name": "ipython",
    "version": 3
   },
   "file_extension": ".py",
   "mimetype": "text/x-python",
   "name": "python",
   "nbconvert_exporter": "python",
   "pygments_lexer": "ipython3",
   "version": "3.7.6"
  }
 },
 "nbformat": 4,
 "nbformat_minor": 4
}
